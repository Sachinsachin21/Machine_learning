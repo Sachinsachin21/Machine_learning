{
  "nbformat": 4,
  "nbformat_minor": 0,
  "metadata": {
    "colab": {
      "provenance": [],
      "authorship_tag": "ABX9TyOPuqLH/M34ziLGu3fecE8s",
      "include_colab_link": true
    },
    "kernelspec": {
      "name": "python3",
      "display_name": "Python 3"
    },
    "language_info": {
      "name": "python"
    }
  },
  "cells": [
    {
      "cell_type": "markdown",
      "metadata": {
        "id": "view-in-github",
        "colab_type": "text"
      },
      "source": [
        "<a href=\"https://colab.research.google.com/github/Sachinsachin21/Machine_learning/blob/main/linear_regression.ipynb\" target=\"_parent\"><img src=\"https://colab.research.google.com/assets/colab-badge.svg\" alt=\"Open In Colab\"/></a>"
      ]
    },
    {
      "cell_type": "code",
      "execution_count": 1,
      "metadata": {
        "id": "2i403vHaGsYU"
      },
      "outputs": [],
      "source": [
        "import numpy as np\n",
        "import matplotlib.pyplot as plt"
      ]
    },
    {
      "cell_type": "code",
      "source": [
        "def est_coef(x,y):\n",
        "  n = np.size(x)\n",
        "  m_x, m_y = np.mean(x), np.mean(y)\n",
        "  SS_xy = np.sum(y*x - n*m_y*m_x)\n",
        "  SS_xx = np.sum(x*x - n*m_x*m_x)\n",
        "  b1 = SS_xy / SS_xx\n",
        "  b0 = m_y - b1*m_x\n",
        "  return(b0, b1)"
      ],
      "metadata": {
        "id": "c5g4qvPIs3_r"
      },
      "execution_count": 2,
      "outputs": []
    },
    {
      "cell_type": "code",
      "source": [
        "def plot_regression_line(x, y, b):\n",
        "  plt.scatter(x, y, color = \"m\", marker = \"X\", s = 30)\n",
        "  y_pred = b[0] + b[1]*x\n",
        "  plt.plot(x, y_pred, color = \"lavender\")\n",
        "  plt.xlabel('Size')\n",
        "  plt.ylabel('Cost')\n",
        "  plt.show()"
      ],
      "metadata": {
        "id": "FykIT68UtTg-"
      },
      "execution_count": 3,
      "outputs": []
    },
    {
      "cell_type": "code",
      "source": [
        "x = np.array([0, 1, 2, 3, 4, 5, 6, 7, 8, 9])\n",
        "y = np.array([100, 300, 250, 570, 700, 800, 890, 900, 1050, 1200])\n",
        "x, y"
      ],
      "metadata": {
        "id": "qwwqaDbCtbDG",
        "colab": {
          "base_uri": "https://localhost:8080/"
        },
        "outputId": "c2bb3422-5e9a-4dc6-be11-02206e58c1e3"
      },
      "execution_count": 4,
      "outputs": [
        {
          "output_type": "execute_result",
          "data": {
            "text/plain": [
              "(array([0, 1, 2, 3, 4, 5, 6, 7, 8, 9]),\n",
              " array([ 100,  300,  250,  570,  700,  800,  890,  900, 1050, 1200]))"
            ]
          },
          "metadata": {},
          "execution_count": 4
        }
      ]
    },
    {
      "cell_type": "code",
      "source": [
        "x.reshape(-1, 1),y.reshape(-1, 1)"
      ],
      "metadata": {
        "colab": {
          "base_uri": "https://localhost:8080/"
        },
        "id": "_MP51Rm8CRKv",
        "outputId": "38f90210-f7d2-44d3-b0e0-486194054cf0"
      },
      "execution_count": 6,
      "outputs": [
        {
          "output_type": "execute_result",
          "data": {
            "text/plain": [
              "(array([[0],\n",
              "        [1],\n",
              "        [2],\n",
              "        [3],\n",
              "        [4],\n",
              "        [5],\n",
              "        [6],\n",
              "        [7],\n",
              "        [8],\n",
              "        [9]]),\n",
              " array([[ 100],\n",
              "        [ 300],\n",
              "        [ 250],\n",
              "        [ 570],\n",
              "        [ 700],\n",
              "        [ 800],\n",
              "        [ 890],\n",
              "        [ 900],\n",
              "        [1050],\n",
              "        [1200]]))"
            ]
          },
          "metadata": {},
          "execution_count": 6
        }
      ]
    },
    {
      "cell_type": "code",
      "source": [
        "b = est_coef(x, y)\n",
        "print(\"Coefficients:\", b)\n",
        "plot_regression_line(x, y, b)"
      ],
      "metadata": {
        "colab": {
          "base_uri": "https://localhost:8080/",
          "height": 467
        },
        "id": "7qSmwg__t4E4",
        "outputId": "43736129-2c46-4fb2-c45a-428ba5badc70"
      },
      "execution_count": 7,
      "outputs": [
        {
          "output_type": "stream",
          "name": "stdout",
          "text": [
            "Coefficients: (-6.88793103448279, 151.7528735632184)\n"
          ]
        },
        {
          "output_type": "display_data",
          "data": {
            "text/plain": [
              "<Figure size 640x480 with 1 Axes>"
            ],
            "image/png": "[encoded data removed]"
          },
          "metadata": {}
        }
      ]
    }
  ]
}